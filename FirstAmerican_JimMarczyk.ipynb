{
  "nbformat": 4,
  "nbformat_minor": 0,
  "metadata": {
    "colab": {
      "provenance": [],
      "mount_file_id": "15n2ZSyL2f5wzk2H7kDpK_LiUtI-b2QBe",
      "authorship_tag": "ABX9TyPQoe0PRxhWHAlSH8UHu0z2",
      "include_colab_link": true
    },
    "kernelspec": {
      "name": "python3",
      "display_name": "Python 3"
    },
    "language_info": {
      "name": "python"
    }
  },
  "cells": [
    {
      "cell_type": "markdown",
      "metadata": {
        "id": "view-in-github",
        "colab_type": "text"
      },
      "source": [
        "<a href=\"https://colab.research.google.com/github/jimmarczyk/data_cleaning_scala/blob/master/FirstAmerican_JimMarczyk.ipynb\" target=\"_parent\"><img src=\"https://colab.research.google.com/assets/colab-badge.svg\" alt=\"Open In Colab\"/></a>"
      ]
    },
    {
      "cell_type": "code",
      "execution_count": 69,
      "metadata": {
        "id": "r6JGzYws5gIt",
        "colab": {
          "base_uri": "https://localhost:8080/",
          "height": 312
        },
        "outputId": "1156fda9-4787-4652-f60a-658921b24625"
      },
      "outputs": [
        {
          "output_type": "stream",
          "name": "stdout",
          "text": [
            "Drive already mounted at /content/drive; to attempt to forcibly remount, call drive.mount(\"/content/drive\", force_remount=True).\n",
            "Looking in indexes: https://pypi.org/simple, https://us-python.pkg.dev/colab-wheels/public/simple/\n",
            "Requirement already satisfied: pyspark in /usr/local/lib/python3.7/dist-packages (3.3.0)\n",
            "Requirement already satisfied: py4j==0.10.9.5 in /usr/local/lib/python3.7/dist-packages (from pyspark) (0.10.9.5)\n"
          ]
        },
        {
          "output_type": "execute_result",
          "data": {
            "text/plain": [
              "<pyspark.sql.session.SparkSession at 0x7fb599f44850>"
            ],
            "text/html": [
              "\n",
              "            <div>\n",
              "                <p><b>SparkSession - in-memory</b></p>\n",
              "                \n",
              "        <div>\n",
              "            <p><b>SparkContext</b></p>\n",
              "\n",
              "            <p><a href=\"http://474d0ddd886e:4050\">Spark UI</a></p>\n",
              "\n",
              "            <dl>\n",
              "              <dt>Version</dt>\n",
              "                <dd><code>v3.3.0</code></dd>\n",
              "              <dt>Master</dt>\n",
              "                <dd><code>local</code></dd>\n",
              "              <dt>AppName</dt>\n",
              "                <dd><code>Colab</code></dd>\n",
              "            </dl>\n",
              "        </div>\n",
              "        \n",
              "            </div>\n",
              "        "
            ]
          },
          "metadata": {},
          "execution_count": 69
        }
      ],
      "source": [
        "from google.colab import drive\n",
        "drive.mount('/content/drive')\n",
        "!pip install pyspark\n",
        "from pyspark.sql import SparkSession\n",
        "spark = SparkSession.builder\\\n",
        "        .master(\"local\")\\\n",
        "        .appName(\"Colab\")\\\n",
        "        .config('spark.ui.port', '4050')\\\n",
        "        .getOrCreate()\n",
        "spark"
      ]
    },
    {
      "cell_type": "code",
      "source": [
        "df_raw = spark.read.csv('/data-engineer-interview-data.csv', header=True,)\n",
        "df_raw.show()"
      ],
      "metadata": {
        "colab": {
          "base_uri": "https://localhost:8080/"
        },
        "id": "veQvN3iaNHfk",
        "outputId": "5da4586b-6436-40c7-820d-ea3f60bca636"
      },
      "execution_count": 70,
      "outputs": [
        {
          "output_type": "stream",
          "name": "stdout",
          "text": [
            "+--------------+------------+------------+----------------------+--------------------+------------+\n",
            "|DocumentNumber|DocumentDate|DocumentType|RefersToDocumentNumber|RefersToDocumentYear|     Remarks|\n",
            "+--------------+------------+------------+----------------------+--------------------+------------+\n",
            "|            27|   8/16/2021|           C|                  null|                null|        null|\n",
            "|             1|   2/15/2021|           T|                     8|                2020|2020 0008-00|\n",
            "|            67|   10/9/2020|           A|                  null|                null|        null|\n",
            "|           157|   10/9/2020|           A|                  null|                null|        null|\n",
            "|           189|   10/9/2020|           J|                  null|                null|        null|\n",
            "|           250|   10/9/2020|           R|                  2016|                  98|        null|\n",
            "|            87|    8/7/2020|           R|                  1992|                  97|        null|\n",
            "|             8|    7/3/2020|           B|                  null|                null|        null|\n",
            "|             2|    1/5/2020|           C|                  null|                null|        null|\n",
            "|            34|   6/21/2019|           A|                  null|                null|        null|\n",
            "|           117|   6/21/2019|           R|                  2013|                  84|        null|\n",
            "|            59|  10/15/2018|           R|                  2002|                 199|        null|\n",
            "|            62|  10/15/2018|           B|                  null|                null|        null|\n",
            "|            69|  10/15/2018|           C|                  null|                null|        null|\n",
            "|            97|  10/27/2017|           B|                  null|                null|        null|\n",
            "|           133|  10/27/2017|           B|                  null|                null|        null|\n",
            "|           190|  10/27/2017|           C|                  null|                null|        null|\n",
            "|            82|  10/17/2016|           R|                  2015|                 130|        null|\n",
            "|            98|  10/17/2016|           A|                  null|                null|        null|\n",
            "|           160|  10/17/2016|           A|                  2015|                  94|        null|\n",
            "+--------------+------------+------------+----------------------+--------------------+------------+\n",
            "only showing top 20 rows\n",
            "\n"
          ]
        }
      ]
    },
    {
      "cell_type": "code",
      "source": [
        "df_raw.count()"
      ],
      "metadata": {
        "colab": {
          "base_uri": "https://localhost:8080/"
        },
        "id": "OK441QMwmNDY",
        "outputId": "25e490c8-2a46-4971-96be-cfbd66a28569"
      },
      "execution_count": 71,
      "outputs": [
        {
          "output_type": "execute_result",
          "data": {
            "text/plain": [
              "146"
            ]
          },
          "metadata": {},
          "execution_count": 71
        }
      ]
    },
    {
      "cell_type": "code",
      "source": [
        "df_raw.dtypes"
      ],
      "metadata": {
        "colab": {
          "base_uri": "https://localhost:8080/"
        },
        "id": "MOAjhykHmXb-",
        "outputId": "b5034e3b-9d11-47a1-cc1b-7ec101d64cb7"
      },
      "execution_count": 72,
      "outputs": [
        {
          "output_type": "execute_result",
          "data": {
            "text/plain": [
              "[('DocumentNumber', 'string'),\n",
              " ('DocumentDate', 'string'),\n",
              " ('DocumentType', 'string'),\n",
              " ('RefersToDocumentNumber', 'string'),\n",
              " ('RefersToDocumentYear', 'string'),\n",
              " ('Remarks', 'string')]"
            ]
          },
          "metadata": {},
          "execution_count": 72
        }
      ]
    },
    {
      "cell_type": "markdown",
      "source": [
        "spark can guess data types, but it is a best practice to explicity define the types"
      ],
      "metadata": {
        "id": "AwI0dUdjVnHt"
      }
    },
    {
      "cell_type": "code",
      "source": [
        "from pyspark.sql.types import *"
      ],
      "metadata": {
        "id": "e2zidOF4V5-8"
      },
      "execution_count": 73,
      "outputs": []
    },
    {
      "cell_type": "code",
      "source": [
        "Schema=StructType([\n",
        "    StructField('DocumentNumber',IntegerType(),nullable=True),\n",
        "    StructField('DocumentDate',DateType(),nullable=True),\n",
        "    StructField('DocumentType',StringType(),nullable=True),\n",
        "    StructField('RefersToDocumentNumber',IntegerType(),nullable=True),\n",
        "    StructField('DocumeRefersToDocumentYearntNumber',IntegerType(),nullable=True),\n",
        "    StructField('Remarks',StringType(),nullable=True)\n",
        "])\n",
        "df_raw = spark.read.option(\"header\",True).schema(Schema).csv('/data-engineer-interview-data.csv')\n",
        "df_raw.printSchema()"
      ],
      "metadata": {
        "colab": {
          "base_uri": "https://localhost:8080/"
        },
        "id": "PTozoUXfWQbx",
        "outputId": "6b14dfcb-a92b-4738-c827-91cced05e2b1"
      },
      "execution_count": 74,
      "outputs": [
        {
          "output_type": "stream",
          "name": "stdout",
          "text": [
            "root\n",
            " |-- DocumentNumber: integer (nullable = true)\n",
            " |-- DocumentDate: date (nullable = true)\n",
            " |-- DocumentType: string (nullable = true)\n",
            " |-- RefersToDocumentNumber: integer (nullable = true)\n",
            " |-- DocumeRefersToDocumentYearntNumber: integer (nullable = true)\n",
            " |-- Remarks: string (nullable = true)\n",
            "\n"
          ]
        }
      ]
    },
    {
      "cell_type": "markdown",
      "source": [
        "enforcing the schema is a fundamental step in cleaning the data"
      ],
      "metadata": {
        "id": "J2zORmOUgJcn"
      }
    },
    {
      "cell_type": "code",
      "source": [
        "!pip install quinn\n",
        "import quinn"
      ],
      "metadata": {
        "colab": {
          "base_uri": "https://localhost:8080/"
        },
        "id": "gLd0hZcUf5Bg",
        "outputId": "c68c80fa-42ee-4942-902c-e1998a408f4d"
      },
      "execution_count": 75,
      "outputs": [
        {
          "output_type": "stream",
          "name": "stdout",
          "text": [
            "Looking in indexes: https://pypi.org/simple, https://us-python.pkg.dev/colab-wheels/public/simple/\n",
            "Requirement already satisfied: quinn in /usr/local/lib/python3.7/dist-packages (0.9.0)\n"
          ]
        }
      ]
    },
    {
      "cell_type": "code",
      "source": [
        "quinn.validate_schema(df_raw, Schema)"
      ],
      "metadata": {
        "id": "Qj5KgZ8WgcI8"
      },
      "execution_count": 76,
      "outputs": []
    },
    {
      "cell_type": "markdown",
      "source": [
        "no schema violations"
      ],
      "metadata": {
        "id": "AzA9KhPpSZ5v"
      }
    },
    {
      "cell_type": "code",
      "source": [
        "df_raw.count()"
      ],
      "metadata": {
        "colab": {
          "base_uri": "https://localhost:8080/"
        },
        "id": "MVMb8sVimgC9",
        "outputId": "cdc3c318-c40b-48c0-c2b1-8639733f8b7d"
      },
      "execution_count": 77,
      "outputs": [
        {
          "output_type": "execute_result",
          "data": {
            "text/plain": [
              "146"
            ]
          },
          "metadata": {},
          "execution_count": 77
        }
      ]
    },
    {
      "cell_type": "markdown",
      "source": [
        "dropping malformed rows will discard any corrupt records/type violations"
      ],
      "metadata": {
        "id": "ks1dlYCJiHty"
      }
    },
    {
      "cell_type": "code",
      "source": [
        "df_cleanded=spark.read.option(\"header\",True).option(\"mode\",'DROPMALFORMED').csv('/data-engineer-interview-data.csv')"
      ],
      "metadata": {
        "id": "hAD0IPCgisia"
      },
      "execution_count": 78,
      "outputs": []
    },
    {
      "cell_type": "markdown",
      "source": [
        "no malformed items"
      ],
      "metadata": {
        "id": "WsWsOty3Sfl9"
      }
    },
    {
      "cell_type": "code",
      "source": [
        "df_cleanded.count()"
      ],
      "metadata": {
        "colab": {
          "base_uri": "https://localhost:8080/"
        },
        "id": "rJ5A7MKwmmBV",
        "outputId": "42e10860-ad1c-446e-ecd7-2d5f5a500d89"
      },
      "execution_count": 79,
      "outputs": [
        {
          "output_type": "execute_result",
          "data": {
            "text/plain": [
              "146"
            ]
          },
          "metadata": {},
          "execution_count": 79
        }
      ]
    },
    {
      "cell_type": "markdown",
      "source": [],
      "metadata": {
        "id": "anbIUNeKKFdd"
      }
    },
    {
      "cell_type": "code",
      "source": [
        "df_cleanded.show()"
      ],
      "metadata": {
        "colab": {
          "base_uri": "https://localhost:8080/"
        },
        "id": "_TdpooTVOSkm",
        "outputId": "e00327d5-4788-4781-f9de-472a80d58579"
      },
      "execution_count": 80,
      "outputs": [
        {
          "output_type": "stream",
          "name": "stdout",
          "text": [
            "+--------------+------------+------------+----------------------+--------------------+------------+\n",
            "|DocumentNumber|DocumentDate|DocumentType|RefersToDocumentNumber|RefersToDocumentYear|     Remarks|\n",
            "+--------------+------------+------------+----------------------+--------------------+------------+\n",
            "|            27|   8/16/2021|           C|                  null|                null|        null|\n",
            "|             1|   2/15/2021|           T|                     8|                2020|2020 0008-00|\n",
            "|            67|   10/9/2020|           A|                  null|                null|        null|\n",
            "|           157|   10/9/2020|           A|                  null|                null|        null|\n",
            "|           189|   10/9/2020|           J|                  null|                null|        null|\n",
            "|           250|   10/9/2020|           R|                  2016|                  98|        null|\n",
            "|            87|    8/7/2020|           R|                  1992|                  97|        null|\n",
            "|             8|    7/3/2020|           B|                  null|                null|        null|\n",
            "|             2|    1/5/2020|           C|                  null|                null|        null|\n",
            "|            34|   6/21/2019|           A|                  null|                null|        null|\n",
            "|           117|   6/21/2019|           R|                  2013|                  84|        null|\n",
            "|            59|  10/15/2018|           R|                  2002|                 199|        null|\n",
            "|            62|  10/15/2018|           B|                  null|                null|        null|\n",
            "|            69|  10/15/2018|           C|                  null|                null|        null|\n",
            "|            97|  10/27/2017|           B|                  null|                null|        null|\n",
            "|           133|  10/27/2017|           B|                  null|                null|        null|\n",
            "|           190|  10/27/2017|           C|                  null|                null|        null|\n",
            "|            82|  10/17/2016|           R|                  2015|                 130|        null|\n",
            "|            98|  10/17/2016|           A|                  null|                null|        null|\n",
            "|           160|  10/17/2016|           A|                  2015|                  94|        null|\n",
            "+--------------+------------+------------+----------------------+--------------------+------------+\n",
            "only showing top 20 rows\n",
            "\n"
          ]
        }
      ]
    },
    {
      "cell_type": "markdown",
      "source": [
        "log rows that contain DocumentType = 'R'"
      ],
      "metadata": {
        "id": "lJEmQCtPnGBe"
      }
    },
    {
      "cell_type": "markdown",
      "source": [
        "note: in case of append issues - try this:  df.write.mode(\"append\").csv(\"pathToFile\")"
      ],
      "metadata": {
        "id": "5MeoeHkFNxPr"
      }
    },
    {
      "cell_type": "code",
      "source": [
        "from pyspark.sql.functions import col\n",
        "df_rdocs = df_cleanded.filter(col('DocumentType') == 'R').write.csv(\"remove_log.csv\", mode=\"append\", header=True)\n",
        "df_rdocs"
      ],
      "metadata": {
        "id": "xuvyoiP_tj2n"
      },
      "execution_count": 81,
      "outputs": []
    },
    {
      "cell_type": "code",
      "source": [
        "df_candidate = df_cleanded.filter(col('DocumentType') != 'R')"
      ],
      "metadata": {
        "id": "Qez2Dh1Suxcs"
      },
      "execution_count": 82,
      "outputs": []
    },
    {
      "cell_type": "code",
      "source": [
        "df_candidate.show()"
      ],
      "metadata": {
        "colab": {
          "base_uri": "https://localhost:8080/"
        },
        "id": "j5cboU0VMspx",
        "outputId": "ff630aed-3b1f-43d2-e6a3-d3e3615296e3"
      },
      "execution_count": 83,
      "outputs": [
        {
          "output_type": "stream",
          "name": "stdout",
          "text": [
            "+--------------+------------+------------+----------------------+--------------------+------------+\n",
            "|DocumentNumber|DocumentDate|DocumentType|RefersToDocumentNumber|RefersToDocumentYear|     Remarks|\n",
            "+--------------+------------+------------+----------------------+--------------------+------------+\n",
            "|            27|   8/16/2021|           C|                  null|                null|        null|\n",
            "|             1|   2/15/2021|           T|                     8|                2020|2020 0008-00|\n",
            "|            67|   10/9/2020|           A|                  null|                null|        null|\n",
            "|           157|   10/9/2020|           A|                  null|                null|        null|\n",
            "|           189|   10/9/2020|           J|                  null|                null|        null|\n",
            "|             8|    7/3/2020|           B|                  null|                null|        null|\n",
            "|             2|    1/5/2020|           C|                  null|                null|        null|\n",
            "|            34|   6/21/2019|           A|                  null|                null|        null|\n",
            "|            62|  10/15/2018|           B|                  null|                null|        null|\n",
            "|            69|  10/15/2018|           C|                  null|                null|        null|\n",
            "|            97|  10/27/2017|           B|                  null|                null|        null|\n",
            "|           133|  10/27/2017|           B|                  null|                null|        null|\n",
            "|           190|  10/27/2017|           C|                  null|                null|        null|\n",
            "|            98|  10/17/2016|           A|                  null|                null|        null|\n",
            "|           160|  10/17/2016|           A|                  2015|                  94|        null|\n",
            "|            89|    1/5/2016|           B|                  null|                null|        null|\n",
            "|           180|    1/5/2016|           A|                  null|                null|        null|\n",
            "|           229|    1/5/2016|           B|                  null|                null|        null|\n",
            "|           295|    1/5/2016|           T|                  2013|                 144|        null|\n",
            "|            77|  11/27/2015|           B|                  null|                null|        null|\n",
            "+--------------+------------+------------+----------------------+--------------------+------------+\n",
            "only showing top 20 rows\n",
            "\n"
          ]
        }
      ]
    },
    {
      "cell_type": "markdown",
      "source": [
        "Removing the J docs referred to by the T docs"
      ],
      "metadata": {
        "id": "xY-9Ff79w0_5"
      }
    },
    {
      "cell_type": "code",
      "source": [
        "df_candidate.createOrReplaceTempView(\"df1\")"
      ],
      "metadata": {
        "id": "Hjr7v7JvcFWc"
      },
      "execution_count": 84,
      "outputs": []
    },
    {
      "cell_type": "code",
      "source": [
        "df_remove = df_candidate.createOrReplaceTempView(\"df1\")\n",
        "spark.sql('''\n",
        "SELECT d1.DocumentNumber, d1.DocumentDate, d1.DocumentType, d1.RefersToDocumentNumber, d1.RefersToDocumentYear, d1.Remarks FROM df1 as d1\n",
        "  FULL OUTER JOIN df1 as d2\n",
        "  ON d1.DocumentNumber == d2.RefersToDocumentNumber\n",
        "  WHERE d1.DocumentType == \"J\" \n",
        "  AND d2.DocumentType == \"T\"\n",
        "'''\n",
        ").write.mode(\"append\").csv(\"remove_log.csv\", header=True)\n"
      ],
      "metadata": {
        "id": "dHJa1R1Tf1NB"
      },
      "execution_count": 85,
      "outputs": []
    },
    {
      "cell_type": "code",
      "source": [
        "df_final = df_candidate.filter(col('DocumentNumber') != '10300')"
      ],
      "metadata": {
        "id": "kCiT5EDuMIl_"
      },
      "execution_count": 86,
      "outputs": []
    },
    {
      "cell_type": "markdown",
      "source": [
        "It appears that the values may have been accidentally swapped between RefersToDocumentNumber and RefersToDocumentYear (the numbers look like years and vica versa. Note to ask Business/Data Analyst.\n",
        "\n",
        "I will continue with the requirements, as written."
      ],
      "metadata": {
        "id": "dZ-yZfJ8v_PG"
      }
    },
    {
      "cell_type": "code",
      "source": [
        "df_final.show()"
      ],
      "metadata": {
        "colab": {
          "base_uri": "https://localhost:8080/"
        },
        "id": "YIlW8TohN5fu",
        "outputId": "df296145-f96d-4d45-bdfb-7ec18332d49b"
      },
      "execution_count": 87,
      "outputs": [
        {
          "output_type": "stream",
          "name": "stdout",
          "text": [
            "+--------------+------------+------------+----------------------+--------------------+------------+\n",
            "|DocumentNumber|DocumentDate|DocumentType|RefersToDocumentNumber|RefersToDocumentYear|     Remarks|\n",
            "+--------------+------------+------------+----------------------+--------------------+------------+\n",
            "|            27|   8/16/2021|           C|                  null|                null|        null|\n",
            "|             1|   2/15/2021|           T|                     8|                2020|2020 0008-00|\n",
            "|            67|   10/9/2020|           A|                  null|                null|        null|\n",
            "|           157|   10/9/2020|           A|                  null|                null|        null|\n",
            "|           189|   10/9/2020|           J|                  null|                null|        null|\n",
            "|             8|    7/3/2020|           B|                  null|                null|        null|\n",
            "|             2|    1/5/2020|           C|                  null|                null|        null|\n",
            "|            34|   6/21/2019|           A|                  null|                null|        null|\n",
            "|            62|  10/15/2018|           B|                  null|                null|        null|\n",
            "|            69|  10/15/2018|           C|                  null|                null|        null|\n",
            "|            97|  10/27/2017|           B|                  null|                null|        null|\n",
            "|           133|  10/27/2017|           B|                  null|                null|        null|\n",
            "|           190|  10/27/2017|           C|                  null|                null|        null|\n",
            "|            98|  10/17/2016|           A|                  null|                null|        null|\n",
            "|           160|  10/17/2016|           A|                  2015|                  94|        null|\n",
            "|            89|    1/5/2016|           B|                  null|                null|        null|\n",
            "|           180|    1/5/2016|           A|                  null|                null|        null|\n",
            "|           229|    1/5/2016|           B|                  null|                null|        null|\n",
            "|           295|    1/5/2016|           T|                  2013|                 144|        null|\n",
            "|            77|  11/27/2015|           B|                  null|                null|        null|\n",
            "+--------------+------------+------------+----------------------+--------------------+------------+\n",
            "only showing top 20 rows\n",
            "\n"
          ]
        }
      ]
    },
    {
      "cell_type": "markdown",
      "source": [
        "Replacing 'null' with '-1', -1 could never be mistaken as an index value"
      ],
      "metadata": {
        "id": "jwtd8oNeRRqS"
      }
    },
    {
      "cell_type": "code",
      "source": [
        "df_final.na.fill('-1').show()"
      ],
      "metadata": {
        "colab": {
          "base_uri": "https://localhost:8080/"
        },
        "id": "USp_uIxJxy3s",
        "outputId": "ef347011-f5c9-4f35-b47d-e5e0e0b146c0"
      },
      "execution_count": 88,
      "outputs": [
        {
          "output_type": "stream",
          "name": "stdout",
          "text": [
            "+--------------+------------+------------+----------------------+--------------------+------------+\n",
            "|DocumentNumber|DocumentDate|DocumentType|RefersToDocumentNumber|RefersToDocumentYear|     Remarks|\n",
            "+--------------+------------+------------+----------------------+--------------------+------------+\n",
            "|            27|   8/16/2021|           C|                    -1|                  -1|          -1|\n",
            "|             1|   2/15/2021|           T|                     8|                2020|2020 0008-00|\n",
            "|            67|   10/9/2020|           A|                    -1|                  -1|          -1|\n",
            "|           157|   10/9/2020|           A|                    -1|                  -1|          -1|\n",
            "|           189|   10/9/2020|           J|                    -1|                  -1|          -1|\n",
            "|             8|    7/3/2020|           B|                    -1|                  -1|          -1|\n",
            "|             2|    1/5/2020|           C|                    -1|                  -1|          -1|\n",
            "|            34|   6/21/2019|           A|                    -1|                  -1|          -1|\n",
            "|            62|  10/15/2018|           B|                    -1|                  -1|          -1|\n",
            "|            69|  10/15/2018|           C|                    -1|                  -1|          -1|\n",
            "|            97|  10/27/2017|           B|                    -1|                  -1|          -1|\n",
            "|           133|  10/27/2017|           B|                    -1|                  -1|          -1|\n",
            "|           190|  10/27/2017|           C|                    -1|                  -1|          -1|\n",
            "|            98|  10/17/2016|           A|                    -1|                  -1|          -1|\n",
            "|           160|  10/17/2016|           A|                  2015|                  94|          -1|\n",
            "|            89|    1/5/2016|           B|                    -1|                  -1|          -1|\n",
            "|           180|    1/5/2016|           A|                    -1|                  -1|          -1|\n",
            "|           229|    1/5/2016|           B|                    -1|                  -1|          -1|\n",
            "|           295|    1/5/2016|           T|                  2013|                 144|          -1|\n",
            "|            77|  11/27/2015|           B|                    -1|                  -1|          -1|\n",
            "+--------------+------------+------------+----------------------+--------------------+------------+\n",
            "only showing top 20 rows\n",
            "\n"
          ]
        }
      ]
    },
    {
      "cell_type": "code",
      "source": [
        "df_final.write.mode(\"append\").csv(\"final_table.csv\", header=True)"
      ],
      "metadata": {
        "id": "CjUE8vl0PYMU"
      },
      "execution_count": 89,
      "outputs": []
    },
    {
      "cell_type": "markdown",
      "source": [],
      "metadata": {
        "id": "d_slxRGWO6Ko"
      }
    }
  ]
}